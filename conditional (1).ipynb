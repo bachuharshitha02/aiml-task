{
 "cells": [
  {
   "cell_type": "code",
   "execution_count": 1,
   "id": "b1cee8f5-885e-4e9e-a0b9-1d02be5caca9",
   "metadata": {},
   "outputs": [
    {
     "name": "stdout",
     "output_type": "stream",
     "text": [
      "even\n"
     ]
    }
   ],
   "source": [
    "num = 6 \n",
    "if num %2 == 0:\n",
    "    print(\"even\")\n",
    "else:\n",
    "    print(\"odd\")"
   ]
  },
  {
   "cell_type": "code",
   "execution_count": 3,
   "id": "9813afb9-3723-427d-b5fb-47972d3d0d5f",
   "metadata": {},
   "outputs": [
    {
     "name": "stdout",
     "output_type": "stream",
     "text": [
      "Even\n"
     ]
    }
   ],
   "source": [
    "print(\"Even\") if num %2 == 0 else print(\"odd\")"
   ]
  },
  {
   "cell_type": "code",
   "execution_count": 5,
   "id": "7f5dc905-7906-4b63-b455-4047cdeb87b9",
   "metadata": {},
   "outputs": [
    {
     "name": "stdout",
     "output_type": "stream",
     "text": [
      "Positive\n"
     ]
    }
   ],
   "source": [
    "x = 10\n",
    "result = \"Positive\" if x > 0 else \"Negitive\"\n",
    "print(result)"
   ]
  },
  {
   "cell_type": "code",
   "execution_count": 7,
   "id": "99392af9-30e1-4692-8927-a66f128ada71",
   "metadata": {},
   "outputs": [
    {
     "name": "stdout",
     "output_type": "stream",
     "text": [
      "Adult\n"
     ]
    }
   ],
   "source": [
    "age = 18\n",
    "category = \"Adult\" if age >= 18 else \"Minor\"\n",
    "print(category)"
   ]
  },
  {
   "cell_type": "code",
   "execution_count": 21,
   "id": "b401e7d8-ef19-4387-b8a2-cf3145ba1486",
   "metadata": {},
   "outputs": [
    {
     "name": "stdout",
     "output_type": "stream",
     "text": [
      "Zero\n"
     ]
    }
   ],
   "source": [
    "num = 0\n",
    "result = \"Positive\" if num > 0 else \"Negative\" if num < 0 else \"Zero\"\n",
    "print(result)"
   ]
  },
  {
   "cell_type": "code",
   "execution_count": 34,
   "id": "bd0b288e-8d42-4545-802c-c7c616f1436c",
   "metadata": {},
   "outputs": [
    {
     "data": {
      "text/plain": [
       "[5, 10, 15, 50, 180, 445]"
      ]
     },
     "execution_count": 34,
     "metadata": {},
     "output_type": "execute_result"
    }
   ],
   "source": [
    "L =[1,2,3,10,36,89]\n",
    "[5*x for x in L]"
   ]
  },
  {
   "cell_type": "code",
   "execution_count": 40,
   "id": "78ede981-0891-4376-9e5c-faf118c1e4a1",
   "metadata": {},
   "outputs": [
    {
     "data": {
      "text/plain": [
       "[2, 89]"
      ]
     },
     "execution_count": 40,
     "metadata": {},
     "output_type": "execute_result"
    }
   ],
   "source": [
    "#Print even number\n",
    "L =[1,2,3,10,36,89]\n",
    "[x for x in L if x%3 == 2]\n"
   ]
  },
  {
   "cell_type": "code",
   "execution_count": 42,
   "id": "e9705010-7bc6-4bc9-ad19-97c33b2312f1",
   "metadata": {},
   "outputs": [
    {
     "data": {
      "text/plain": [
       "{'Ram': [70, 73, 89, 100], 'Jhon': [80, 90, 67, 88], 'prem': [87, 67, 77, 99]}"
      ]
     },
     "execution_count": 42,
     "metadata": {},
     "output_type": "execute_result"
    }
   ],
   "source": [
    "#dictionary comprehension\n",
    "d1 = {'Ram':[70,73,89,100], 'Jhon':[80,90,67,88], 'prem':[87,67,77,99]}\n",
    "d1"
   ]
  },
  {
   "cell_type": "code",
   "execution_count": 48,
   "id": "e5c27461-ef82-4ce6-bf2c-c76310609e94",
   "metadata": {},
   "outputs": [
    {
     "data": {
      "text/plain": [
       "{'Ram': 83.0, 'Jhon': 81.25, 'prem': 82.5}"
      ]
     },
     "execution_count": 48,
     "metadata": {},
     "output_type": "execute_result"
    }
   ],
   "source": [
    "{k:sum(v)/len(v) for k,v in d1.items()}"
   ]
  },
  {
   "cell_type": "code",
   "execution_count": 50,
   "id": "8e323ee6-d6a9-4ad2-8bae-2cf9c626e54f",
   "metadata": {},
   "outputs": [],
   "source": [
    "def mean_value(given_list):\n",
    "    total = sum(given_list)\n",
    "    average_value = total/len(given_list)\n",
    "    return average_value"
   ]
  },
  {
   "cell_type": "code",
   "execution_count": 52,
   "id": "c69e47ed-6f41-4ac9-885d-edd8828c6458",
   "metadata": {},
   "outputs": [
    {
     "data": {
      "text/plain": [
       "5.5"
      ]
     },
     "execution_count": 52,
     "metadata": {},
     "output_type": "execute_result"
    }
   ],
   "source": [
    "L = [1,2,3,4,5,6,7,8,9,10]\n",
    "mean_value(L)"
   ]
  },
  {
   "cell_type": "code",
   "execution_count": 54,
   "id": "fe1e1df5-f76f-4242-a4dd-588c646902b0",
   "metadata": {},
   "outputs": [
    {
     "name": "stdout",
     "output_type": "stream",
     "text": [
      "Good Morning, harshitha!\n"
     ]
    }
   ],
   "source": [
    "def greet(name):\n",
    "   print(f\"Good Morning, {name}!\")\n",
    "greet(\"harshitha\")"
   ]
  },
  {
   "cell_type": "code",
   "execution_count": 1,
   "id": "a19113f5-4adc-4231-9785-4cefb2df42a8",
   "metadata": {},
   "outputs": [],
   "source": [
    "#Functions\n",
    "def avg_value(*n):\n",
    "    l = len(n)\n",
    "    average = sum(n)/l\n",
    "    return average\n",
    "    "
   ]
  },
  {
   "cell_type": "code",
   "execution_count": 3,
   "id": "45bd2114-6077-430f-bdf8-d62b8cb75726",
   "metadata": {},
   "outputs": [
    {
     "data": {
      "text/plain": [
       "218.0"
      ]
     },
     "execution_count": 3,
     "metadata": {},
     "output_type": "execute_result"
    }
   ],
   "source": [
    "avg_value(10,20,60,100,900)"
   ]
  },
  {
   "cell_type": "code",
   "execution_count": 6,
   "id": "8a4f9f0f-844e-4b6b-85b3-afb91cbafcf8",
   "metadata": {},
   "outputs": [],
   "source": [
    "#Lambda Functions\n",
    "greet = lambda name : print(f\"Good Morning {name}!\")"
   ]
  },
  {
   "cell_type": "code",
   "execution_count": 8,
   "id": "ebbc81e2-4283-4be8-9500-f97dedc6b92a",
   "metadata": {},
   "outputs": [
    {
     "name": "stdout",
     "output_type": "stream",
     "text": [
      "Good Morning Soumya!\n"
     ]
    }
   ],
   "source": [
    "greet(\"Soumya\")"
   ]
  },
  {
   "cell_type": "code",
   "execution_count": 13,
   "id": "edf60762-bc20-4dae-9eb9-07429900c60a",
   "metadata": {},
   "outputs": [],
   "source": [
    "#write a lambda function\n",
    "product = lambda a,b,c : a*b*c"
   ]
  },
  {
   "cell_type": "code",
   "execution_count": 17,
   "id": "df77274b-cef3-47e8-b8d1-49814cf7df00",
   "metadata": {},
   "outputs": [
    {
     "data": {
      "text/plain": [
       "24000"
      ]
     },
     "execution_count": 17,
     "metadata": {},
     "output_type": "execute_result"
    }
   ],
   "source": [
    "product(20,30,40)"
   ]
  },
  {
   "cell_type": "code",
   "execution_count": 25,
   "id": "42886f2a-5bc0-4294-8b50-b3077b1cf8a8",
   "metadata": {},
   "outputs": [
    {
     "data": {
      "text/plain": [
       "[9, 45]"
      ]
     },
     "execution_count": 25,
     "metadata": {},
     "output_type": "execute_result"
    }
   ],
   "source": [
    "#Lambda function with list comprehension\n",
    "even = lambda L : [x for x in L if x%3 ==0]\n",
    "my_list = [100,2,9,38,45,56,20]\n",
    "even(my_list)"
   ]
  },
  {
   "cell_type": "code",
   "execution_count": null,
   "id": "027d6a83-6ed1-4742-bd52-e9bfdf9e0603",
   "metadata": {},
   "outputs": [],
   "source": []
  }
 ],
 "metadata": {
  "kernelspec": {
   "display_name": "Python [conda env:base] *",
   "language": "python",
   "name": "conda-base-py"
  },
  "language_info": {
   "codemirror_mode": {
    "name": "ipython",
    "version": 3
   },
   "file_extension": ".py",
   "mimetype": "text/x-python",
   "name": "python",
   "nbconvert_exporter": "python",
   "pygments_lexer": "ipython3",
   "version": "3.12.7"
  }
 },
 "nbformat": 4,
 "nbformat_minor": 5
}
